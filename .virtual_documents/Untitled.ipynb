import deidHelpers as deid


pip list


deid.deid_workflow()


ts = large_image.open('./data/CMU-2-backup.svs')


import large_image



